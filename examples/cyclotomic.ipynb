{
 "cells": [
  {
   "cell_type": "markdown",
   "id": "c70ac38a-b8ba-48f5-bb83-73f98d1610b6",
   "metadata": {},
   "source": [
    "# Plotting Cyclotomic Rings\n",
    "\n",
    "In this notebook, let us explore the structure and symmetries of cyclotomic rings."
   ]
  },
  {
   "cell_type": "code",
   "execution_count": null,
   "id": "e6d8b9ce-5475-46c9-b528-86b1658fe020",
   "metadata": {},
   "outputs": [],
   "source": [
    ":dep tilezz = { path = \"..\" }\n",
    ":dep plotters = { version = \"*\" }\n",
    "\n",
    "// import everything we will need\n",
    "use std::collections::HashSet;\n",
    "\n",
    "use tilezz::cyclotomic::*;\n",
    "use tilezz::cyclotomic::geometry::point_mod_rect;\n",
    "\n",
    "use plotters::prelude::*;\n",
    "use plotters::coord::Shift;\n",
    "use plotters::evcxr::evcxr_bitmap_figure;\n",
    "use tilezz::plotters::{plot_points, rainbow};\n",
    "use tilezz::plotutils::{tile_bounds, P64, R64};"
   ]
  },
  {
   "cell_type": "markdown",
   "id": "4144fb13-5743-4607-b37e-1293b8690c3c",
   "metadata": {},
   "source": [
    "## Visualizing Points Reachable In A Fixed Unit Square\n",
    "\n",
    "The naive approach to compute points in the ring would be doing some simple breadth-first search from the origin, but this is inconvenient if all we want in the end are points within one unit square.\n",
    "\n",
    "But all starting points are equal. So we can limit our attention to a single unit square and all other neighborhoods will be the same (modulo translation).\n",
    "\n",
    "So let us explore the points of the ring that we can reach inside the unit square with corners $(0,0)$ and $(1,1)$, i.e. we explore reachable ring elements starting from $0, 1, i$ and $1+i$.\n",
    "\n",
    "To saturate our set of points, we will use the following algorithm:\n",
    "\n",
    "* Given a number of rounds $n \\in \\mathbb{N}$, in each round $i$ go in all possible directions from every point that was reached in round $i-1$ the first time.\n",
    "* If the point is outside the unit square, normalize it back (by subtracting or adding $1$ or $i$ as often as needed).\n",
    "\n",
    "Note that the normalized points would have been reached from some adjacent unit square, i.e. some other Gaussian integer, by symmetry.\n",
    "\n",
    "This way we can populate points inside a single unit square without thinking about the true predecessor points (that can be arbitrarily far away).\n",
    "\n",
    "The resulting set of points in the unit square is guaranteed to be reachable from *some* $z \\in \\mathbb{Z}[\\zeta_4]$ in at most $n$ steps.\n",
    "\n",
    "As by assumption we only consider rings that include $\\mathbb{Z}[\\zeta_4]$ as a subring, all resulting points are valid.\n",
    "\n",
    "Here is the code for the actual algorithm, the code is more generic so we can do some other experiments later:"
   ]
  },
  {
   "cell_type": "code",
   "execution_count": null,
   "id": "cc104421-4d2c-4ab5-bc8a-b13712fadc1b",
   "metadata": {},
   "outputs": [],
   "source": [
    "/// Compute the levels of points reachable within the unit square from any Gaussian integer in n steps.\n",
    "fn explore<ZZ: ZZType + HasZZ4>(n: usize, mod_unit_square: bool) -> Vec<Vec<ZZ>>\n",
    "where\n",
    "    <ZZ as IsComplex>::Field: From<(<ZZ as IsRingOrField>::Real, <ZZ as IsRingOrField>::Real)>,\n",
    "    {\n",
    "    // we start at the corners of the unit square\n",
    "    let start_pts: &[ZZ] = if mod_unit_square { &[ZZ::zero(), ZZ::one(), ZZ::one_i(), ZZ::one() + ZZ::one_i()] } else {&[ZZ::zero()]};\n",
    "\n",
    "    let mut visited: HashSet<ZZ> = HashSet::from_iter(start_pts.to_vec().into_iter());\n",
    "    let mut round_pts: Vec<Vec<ZZ>> = Vec::new();\n",
    "    round_pts.push(start_pts.to_vec());\n",
    "\n",
    "    let unit_square: (ZZ, ZZ) = ((0, 0).into(), (1, 1).into());\n",
    "    // in each round, we go one unit step in every possible direction\n",
    "    for i in 1..=n {\n",
    "        let last = round_pts.last().unwrap();\n",
    "        let mut curr: Vec<ZZ> = Vec::new();\n",
    "        for p in last.iter() {\n",
    "            for i in 0..ZZ::turn() {\n",
    "                let mut p_dest: ZZ = *p + ZZ::unit(i);\n",
    "                if mod_unit_square {\n",
    "                    // normalize back into unit square (if enabled)\n",
    "                    p_dest = point_mod_rect(&p_dest, &unit_square).coerce_ring();\n",
    "                }\n",
    "                let p_dest = p_dest;\n",
    "                \n",
    "                if !visited.contains(&p_dest) {\n",
    "                    visited.insert(p_dest);\n",
    "                    curr.push(p_dest);\n",
    "                }\n",
    "            }\n",
    "        }\n",
    "        print!(\"{}{}\", curr.len(), if i==n { \"\" } else {\"+\"}); // print number of new points\n",
    "        if i % 10 == 0 {\n",
    "            println!(\"\")\n",
    "        }\n",
    "        round_pts.push(curr);\n",
    "    }\n",
    "    let num_pts: usize = round_pts.iter().map(|v| v.len()).sum();\n",
    "    println!(\"\\n= {num_pts}\");\n",
    "    return round_pts;\n",
    "}"
   ]
  },
  {
   "cell_type": "markdown",
   "id": "59944a62-7c67-4124-86e6-f4e0e2d58f54",
   "metadata": {},
   "source": [
    "And here is some utility code for plotting:"
   ]
  },
  {
   "cell_type": "code",
   "execution_count": null,
   "id": "c0f3afc1-9e59-4bab-8434-2df39d00eb83",
   "metadata": {},
   "outputs": [],
   "source": [
    "/// Helper function to plot the points with given settings into a drawing area.\n",
    "pub fn render<'a, DB: DrawingBackend>(\n",
    "    da: &DrawingArea<DB, Shift>,\n",
    "    ((x_min, y_min), (x_max, y_max)): R64,\n",
    "    point_levels: &[Vec<P64>],\n",
    "    level_styles: &[(i32, ShapeStyle)],\n",
    "    offset: usize,\n",
    "    stride: u32,\n",
    ") {\n",
    "    // prepare coordinate system\n",
    "    let mut chart = ChartBuilder::on(&da).x_label_area_size(20).y_label_area_size(40)\n",
    "        .build_cartesian_2d(x_min..x_max, y_min..y_max).unwrap();\n",
    "    chart.configure_mesh().draw().unwrap();\n",
    "    // plot points level by level with the correct style\n",
    "    for i in (0..point_levels.len()).step_by(stride as usize).rev() {\n",
    "        let (sz, st) = level_styles[i as usize];\n",
    "        plot_points(&mut chart, point_levels[i as usize].as_slice(), |_| format!(\"{}\", i+offset), sz, st);\n",
    "    }\n",
    "}\n",
    "\n",
    "/// Generate combinations of point sizes and colors\n",
    "fn get_styles(n: usize, sz: Option<i32>) -> Vec<(i32, ShapeStyle)> {\n",
    "    // get a rainbow color gradient\n",
    "    let colors = rainbow(n as u32 + 1, 1.);\n",
    "    (0..=n).collect::<Vec<_>>().iter().map(|i| (\n",
    "        match sz { Some(size) => size, None => (40. * (0.99_f64.powi(*i as i32))) as i32, },\n",
    "        colors[*i as usize].filled().into(),\n",
    "    )).collect()\n",
    "}\n",
    "\n",
    "fn prepare_render<ZZ: ZZType + HasZZ4>(\n",
    "    num_rounds: usize,\n",
    "    mod_unit_square: bool,\n",
    "    pt_size: Option<i32>,\n",
    ") -> (Vec<Vec<P64>>, R64, Vec<(i32, ShapeStyle)>)\n",
    "where\n",
    "    <ZZ as IsComplex>::Field: From<(<ZZ as IsRingOrField>::Real, <ZZ as IsRingOrField>::Real)>,\n",
    "{\n",
    "    let points: Vec<Vec<P64>> = explore::<ZZ>(num_rounds, mod_unit_square)\n",
    "        .iter()\n",
    "        .map(|v| v.iter().map(|p| p.xy()).collect())\n",
    "        .collect();\n",
    "\n",
    "    let bounds = tile_bounds(\n",
    "        points\n",
    "            .iter()\n",
    "            .map(|p| <(P64, P64) as Into<[P64; 2]>>::into(tile_bounds(p.iter())).into_iter())\n",
    "            .flatten()\n",
    "            .collect::<Vec<P64>>()\n",
    "            .as_slice(),\n",
    "    );\n",
    "    let styles = get_styles(points.len(), pt_size);\n",
    "\n",
    "    (points, bounds, styles)\n",
    "}"
   ]
  },
  {
   "cell_type": "markdown",
   "id": "73bf643e-e946-43f6-a8f0-904af1ebb7f0",
   "metadata": {},
   "source": [
    "First, let us compute the points in $\\mathbb{Z}[\\zeta_{12}]$ for some fixed number of rounds:"
   ]
  },
  {
   "cell_type": "code",
   "execution_count": null,
   "id": "7580ccff-aebb-4fd5-a6f4-54aac27139cf",
   "metadata": {},
   "outputs": [],
   "source": [
    "let (points, bounds, styles) = prepare_render::<ZZ12>(64, true, None);"
   ]
  },
  {
   "cell_type": "markdown",
   "id": "13ab7382-d87a-4fee-ba43-51036c08fb53",
   "metadata": {},
   "source": [
    "Already here some interesting phenomena are showing up in $\\mathbb{Z}[\\zeta_{12}]$. Let $i$ be the round and $n_i$ the number of points we discover. Then:\n",
    "\n",
    "* if $i$ is even, then in round $i+1$ there are also $n_i$ new points\n",
    "* if in round $i$ we discovered $n_i$ points, in round $i+2$ there will be $n_i + 8$ new points\n",
    "\n",
    "This number sequence looks like it has a polynomial closed form. The pattern of every next two rounds having the same number of new points is, I guess, due to certain linear dependencies between the directional unit steps. Probably all this can be explained by some well-known mathematical properties.\n",
    "\n",
    "Now let us plot the points. It's a lot of points, so let us look at different subsets and skip a bunch of exploration steps, to get a clearer picture: *(I recommend using the notebook in full-width mode)*"
   ]
  },
  {
   "cell_type": "code",
   "execution_count": null,
   "id": "1dcc9ad9-5e9d-48d0-a062-7d9d5fa745de",
   "metadata": {},
   "outputs": [],
   "source": [
    "evcxr_figure((4000,4000), |root| {\n",
    "    let areas: Vec<_> = root.split_evenly((2, 2)).into_iter().map(|area| area.margin(40, 40, 40, 40)).collect();\n",
    "\n",
    "    render(&areas[0], bounds, points.as_slice(), styles.as_slice(), 0, 4);\n",
    "    render(&areas[1], bounds, points.as_slice(), styles.as_slice(), 0, 5);\n",
    "    render(&areas[2], bounds, points.as_slice(), styles.as_slice(), 0, 7);\n",
    "    render(&areas[3], bounds, points.as_slice(), styles.as_slice(), 0, 8);  \n",
    "\n",
    "    Ok(())\n",
    "})"
   ]
  },
  {
   "cell_type": "code",
   "execution_count": null,
   "id": "642be0e7-7440-4f86-b572-9fb7f976ca75",
   "metadata": {},
   "outputs": [],
   "source": [
    "evcxr_figure((4000,4000), |root| {\n",
    "    let areas: Vec<_> = root.split_evenly((4, 4)).into_iter().map(|area| area.margin(40, 40, 40, 40)).collect();\n",
    "    for i in 0..16 {\n",
    "        let ix = 1 + (4 * i);\n",
    "        render(&areas[i], bounds, &points.as_slice()[ix..(ix + 4)], &styles.as_slice()[ix..(ix + 4)], ix, 1);\n",
    "    }\n",
    "    Ok(())\n",
    "})"
   ]
  },
  {
   "cell_type": "markdown",
   "id": "49f50950-0cfb-4986-91d6-143c50b4a917",
   "metadata": {},
   "source": [
    "What we see are the first few of the infinitely many layers of new points obtained by the closure process of $\\mathbb{Z}[\\zeta_4]$ under the additional degrees of freedom granted by $\\mathbb{Z}[\\zeta_{12}]$.\n",
    "\n",
    "Something is happening here that at least *I* would not have expected, and I doubt that this is something you easily expect by just looking at the algebra.\n",
    "\n",
    "Remember that the unit square is a representative \"tile\" of the complex plane, which would look everywhere like this if we could have started on *every* Gaussian integer.\n",
    "\n",
    "The points we found in each round all fall onto two symmetric \"rectangles\" (in certain rounds they seem to almost merge into one).\n",
    "\n",
    "This behavior is especially visible for the later rounds, with many points, but if you look closely, this is what happens for *each* round.\n",
    "\n",
    "Now, that some symmetry shows up is not surprising - rather expected. But:\n",
    "* Why do we get these rectangular shapes?\n",
    "* Why do we get a pattern of **two** rectangles, not some different number?\n",
    "\n",
    "Maybe some number theorist can explain it as a trivial consequence of some property. Or someone will point out a logic flaw in the exploration, or find a bug in the code.\n",
    "\n",
    "In the meantime, **all I can say is that this is where math and art meet. We only are uncovering what is already there.** Nothing is being created here, only discovered and marvelled at."
   ]
  },
  {
   "cell_type": "markdown",
   "id": "d35d76da-86e1-4bf6-8500-e1ad93069c13",
   "metadata": {},
   "source": [
    "### Breadth-First-Exploration from the Origin\n",
    "\n",
    "For comparison, now let us do the naive exploration starting from the origin. It will reveal different beautiful and interesting patterns for us to look at."
   ]
  },
  {
   "cell_type": "code",
   "execution_count": null,
   "id": "a7062edd-6d82-4046-8d3d-d38a92d58d72",
   "metadata": {},
   "outputs": [],
   "source": [
    "let (points, bounds, styles) = prepare_render::<ZZ12>(16, false, Some(2));"
   ]
  },
  {
   "cell_type": "code",
   "execution_count": null,
   "id": "fb376e02-ebf9-4758-9761-d869ad851b5f",
   "metadata": {},
   "outputs": [],
   "source": [
    "evcxr_bitmap_figure((4000,4000), |root| {\n",
    "    root.fill(&WHITE);\n",
    "    let areas: Vec<_> = root.split_evenly((4, 4)).into_iter().map(|area| area.margin(40, 40, 40, 40)).collect();\n",
    "    for i in 0..16 {\n",
    "        render(&areas[i], bounds, &points.as_slice()[i..=i], &styles.as_slice()[i..=i], i, 1);\n",
    "    }\n",
    "    Ok(())\n",
    "})"
   ]
  },
  {
   "cell_type": "markdown",
   "id": "28525508-2bcd-4fbe-bbf3-d7e94ee31ae7",
   "metadata": {},
   "source": [
    "## Other Visualization Ideas\n",
    "\n",
    "If you want, you can try to adapt the code to remember for each point from which direction it was discovered (i.e., which unit was added to reach it). This could reveal other interesting patterns in neighborhoods of points.\n",
    "\n",
    "I have also been thinking about constructing a graph (remembering the edges of the connectivity), but the question is whether there is a nice way to make use of that information visually.\n",
    "\n",
    "Another direction could be considering 3D plots with plotters and unrolling the discovery rounds into the third dimension. Plotters can also easily create animated GIFs, but those do not work in the notebook environment."
   ]
  },
  {
   "cell_type": "markdown",
   "id": "ecb75e24-8d70-4764-b468-45f452121d9d",
   "metadata": {},
   "source": [
    "## Bonus: Trying Some Other Rings\n",
    "\n",
    "As a bonus, let us use the code above to look at the rings $\\mathbb{Z}[\\zeta_{20}]$ and $\\mathbb{Z}[\\zeta_{24}]$. The computation takes significantly longer while the result is rather crowded and not as interesting and comprehensible as we have seen in $\\mathbb{Z}[\\zeta_{12}]$.\n",
    "\n",
    "But here, the tilezz crate can show off what it can do as a generic cyclotomic ring implementation - to look at other rings, all we have to change is one type argument."
   ]
  },
  {
   "cell_type": "code",
   "execution_count": null,
   "id": "5a22f282-0da4-4208-9baa-5560b680132e",
   "metadata": {},
   "outputs": [],
   "source": [
    "let (points, bounds, styles) = prepare_render::<ZZ20>(6, true, Some(5));"
   ]
  },
  {
   "cell_type": "code",
   "execution_count": null,
   "id": "cf8cbada-e8e2-4997-b973-a44710f3649e",
   "metadata": {},
   "outputs": [],
   "source": [
    "evcxr_bitmap_figure((3000,2000), |root| {\n",
    "    root.fill(&WHITE);\n",
    "    let areas: Vec<_> = root.split_evenly((2,3)).into_iter().map(|area| area.margin(40, 40, 40, 40)).collect();\n",
    "    for i in 0..6 {\n",
    "        render(&areas[i], bounds, &points.as_slice()[i..=i], &styles.as_slice()[i..=i], i, 1);\n",
    "    }\n",
    "    Ok(())\n",
    "})"
   ]
  },
  {
   "cell_type": "code",
   "execution_count": null,
   "id": "95c9c3fc-216a-43dd-abd9-2fc66edfa59b",
   "metadata": {},
   "outputs": [],
   "source": [
    "let (points, bounds, styles) = prepare_render::<ZZ24>(6, true, Some(5));"
   ]
  },
  {
   "cell_type": "code",
   "execution_count": null,
   "id": "932dfe35-505c-452d-bca1-2ae829c98213",
   "metadata": {},
   "outputs": [],
   "source": [
    "evcxr_bitmap_figure((3000,2000), |root| {\n",
    "    root.fill(&WHITE);\n",
    "    let areas: Vec<_> = root.split_evenly((2,3)).into_iter().map(|area| area.margin(40, 40, 40, 40)).collect();\n",
    "    for i in 0..6 {\n",
    "        render(&areas[i], bounds, &points.as_slice()[i..=i], &styles.as_slice()[i..=i], i, 1);\n",
    "    }\n",
    "    Ok(())\n",
    "})"
   ]
  },
  {
   "cell_type": "code",
   "execution_count": null,
   "id": "7377e8fa-f4eb-4702-a0cc-a4ca13235128",
   "metadata": {},
   "outputs": [],
   "source": [
    "let (points, bounds, styles) = prepare_render::<ZZ20>(6, false, Some(2));"
   ]
  },
  {
   "cell_type": "code",
   "execution_count": null,
   "id": "f3a0b999-fecb-4320-88ed-46744c636c5f",
   "metadata": {},
   "outputs": [],
   "source": [
    "evcxr_bitmap_figure((3000,2000), |root| {\n",
    "    root.fill(&WHITE);\n",
    "    let areas: Vec<_> = root.split_evenly((2, 3)).into_iter().map(|area| area.margin(40, 40, 40, 40)).collect();\n",
    "    for i in 0..6 {\n",
    "        render(&areas[i], bounds, &points.as_slice()[i..=i], &styles.as_slice()[i..=i], i, 1);\n",
    "    }\n",
    "    Ok(())\n",
    "})"
   ]
  },
  {
   "cell_type": "code",
   "execution_count": null,
   "id": "676609a7-28a7-49ee-ba6a-8b24dd82dd70",
   "metadata": {},
   "outputs": [],
   "source": [
    "let (points, bounds, styles) = prepare_render::<ZZ24>(6, false, Some(2));"
   ]
  },
  {
   "cell_type": "code",
   "execution_count": null,
   "id": "45339b59-ec89-495f-9357-644aef9f6e54",
   "metadata": {},
   "outputs": [],
   "source": [
    "evcxr_bitmap_figure((3000,2000), |root| {\n",
    "    root.fill(&WHITE);\n",
    "    let areas: Vec<_> = root.split_evenly((2, 3)).into_iter().map(|area| area.margin(40, 40, 40, 40)).collect();\n",
    "    for i in 0..6 {\n",
    "        render(&areas[i], bounds, &points.as_slice()[i..=i], &styles.as_slice()[i..=i], i, 1);\n",
    "    }\n",
    "    Ok(())\n",
    "})"
   ]
  },
  {
   "cell_type": "code",
   "execution_count": null,
   "id": "87227c1c-e3fa-4439-80a9-21e4a28eb86f",
   "metadata": {},
   "outputs": [],
   "source": []
  }
 ],
 "metadata": {
  "kernelspec": {
   "display_name": "Rust",
   "language": "rust",
   "name": "rust"
  },
  "language_info": {
   "codemirror_mode": "rust",
   "file_extension": ".rs",
   "mimetype": "text/rust",
   "name": "Rust",
   "pygment_lexer": "rust",
   "version": ""
  }
 },
 "nbformat": 4,
 "nbformat_minor": 5
}
