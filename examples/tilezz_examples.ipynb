{
 "cells": [
  {
   "cell_type": "markdown",
   "id": "d8829d3d-a4c0-4d9b-b4f0-6ae7403332b5",
   "metadata": {
    "scrolled": true
   },
   "source": [
    "# Example Gallery\n",
    "\n",
    "This notebook collects some examples of what you can do with the crate.\n",
    "\n",
    "Until some more focused and didactic tutorial is written, this is the main practical documentation.\n",
    "\n",
    "For a more in-depth overview and discussion of the concepts, check out the blog posts linked in the repository."
   ]
  },
  {
   "cell_type": "code",
   "execution_count": null,
   "id": "3fca3c09-6a34-4a16-ae64-e75a8ea49e8a",
   "metadata": {},
   "outputs": [],
   "source": [
    "// build and load the crate\n",
    ":dep plotters = { version = \"^0.3.7\", features = [\"evcxr\", \"all_series\"] }\n",
    ":dep tilezz = { path = \"..\" }\n",
    "\n",
    "// import everything we need (for convenience)\n",
    "use tilezz::cyclotomic::*;\n",
    "use tilezz::snake::{Snake, Turtle};\n",
    "use tilezz::rat::Rat;\n",
    "\n",
    "use plotters::prelude::*;\n",
    "use tilezz::plotters::{plot_tile, tile_chart, TileStyle};"
   ]
  },
  {
   "cell_type": "markdown",
   "id": "705cc7cd-613d-4baa-be97-1cf09cc26e0d",
   "metadata": {},
   "source": [
    "## Minimal example\n",
    "\n",
    "Let us describe and render a tile."
   ]
  },
  {
   "cell_type": "code",
   "execution_count": null,
   "id": "b908b01f-f5f3-437e-9282-9827fec1f5cb",
   "metadata": {},
   "outputs": [],
   "source": [
    "evcxr_figure((500,500), |root| {\n",
    "    let _ = root.fill(&WHITE);\n",
    "    let root = root.margin(10, 10, 10, 10);\n",
    "    // ----\n",
    "    \n",
    "    let seq_zz24: Vec<i8> = vec![6, 4, 0, 4, -6, 4, 6, 4, -6, 4, 6, -4, 6, -4];\n",
    "    let s: Snake<ZZ12> = spectre();\n",
    "\n",
    "    // ----\n",
    "    let p = s.to_polyline_f64(Turtle::default());\n",
    "    plot_tile(&root, &p, &TileStyle::default());\n",
    "    Ok(())\n",
    "})"
   ]
  },
  {
   "cell_type": "markdown",
   "id": "4338d911-2032-499b-8416-3083fdf322ab",
   "metadata": {},
   "source": [
    "Now you might recognize this as the legendary spectre tile. You see the vertices numbered in counterclockwise.\n",
    "\n",
    "The sequence of numbers we have entered describes the **external angle** of the current polygon vertex. We work in $Z[\\zeta_{12}]$, so a full rotation is $12$, a half-rotation is 6. **Angles describing a polygon must have an absolute value less than half a rotation**, i.e. here between $-6$ and $6$.\n",
    "\n",
    "Let us rotate the polygon by one step. Now we'll use the utility function to give us the angle sequence of the spectre, but we will use the `Rat` type instead of a `Snake`."
   ]
  },
  {
   "cell_type": "code",
   "execution_count": null,
   "id": "42279cb1-f67c-442b-8154-93391b49656e",
   "metadata": {},
   "outputs": [],
   "source": [
    "evcxr_figure((500,500), |root| {\n",
    "    let _ = root.fill(&WHITE);\n",
    "    let root = root.margin(10, 10, 10, 10);\n",
    "    // ----\n",
    "    \n",
    "    let mut r: Rat<ZZ12> = Rat::try_from(&spectre()).unwrap().cycle(1);  // <-- look here\n",
    "\n",
    "    // ----\n",
    "    let p = r.to_polyline_f64(Turtle::default());\n",
    "    plot_tile(&root, &p, &TileStyle::default());\n",
    "    Ok(())\n",
    "})"
   ]
  },
  {
   "cell_type": "markdown",
   "id": "66981928-de69-4e10-b82e-9f61b0fae50f",
   "metadata": {},
   "source": [
    "You can see that the first vertex is the next in counter-clockwise direction compared to the previous image, but the tile is rotated very differently in the plot.\n",
    "\n",
    "The reason is that the first vertex is assumed to be at the origin and the first external angle is between the real line and the first line segment.\n",
    "\n",
    "To rotate the tile in the plot, we have to specify the orientation of the `Turtle`."
   ]
  },
  {
   "cell_type": "code",
   "execution_count": null,
   "id": "cc0114d1-0502-4268-8488-52ad1e1fba6f",
   "metadata": {},
   "outputs": [],
   "source": [
    "evcxr_figure((500,500), |root| {\n",
    "    let _ = root.fill(&WHITE);\n",
    "    let root = root.margin(10, 10, 10, 10);\n",
    "    // ----\n",
    "    \n",
    "    let mut r: Rat<ZZ12> = Rat::try_from(&spectre()).unwrap().cycle(1);\n",
    "\n",
    "    // ----\n",
    "    let p = r.to_polyline_f64(Turtle::new(0.into(), 3)); // <-- look here\n",
    "    plot_tile(&root, &p, &TileStyle::default());\n",
    "    Ok(())\n",
    "})"
   ]
  },
  {
   "cell_type": "markdown",
   "id": "b4ea22d4-84f4-469e-8899-dba1ec30b0ce",
   "metadata": {},
   "source": [
    "Fixme: helper function to hide boilerplate\n",
    "split out basic tutorial for using rats, snakes and turtles and explaining how the geometry maps to the plot."
   ]
  },
  {
   "cell_type": "code",
   "execution_count": null,
   "id": "fb22ee37-526c-45c9-8119-26a065fc5aaa",
   "metadata": {},
   "outputs": [],
   "source": [
    "// In this cell, let us look at the customization options for the plotting.\n",
    "\n",
    "// Build a customized tile style.\n",
    "fn my_custom_style<'a>() -> TileStyle<'a> {\n",
    "    let mut st = TileStyle::default();\n",
    "    st.label_font = st.label_font.color(&RED);\n",
    "    st.border_style = st.border_style.stroke_width(5);\n",
    "    st.fill_style.color = TRANSPARENT;\n",
    "    st.node_zero_only = true;\n",
    "    st.node_size = 10;\n",
    "    st.node_style = BLUE.filled();\n",
    "    st.node_labels = false;\n",
    "    return st;\n",
    "}\n",
    "\n",
    "evcxr_figure((2000,1000), |root| {\n",
    "    let _ = root.fill(&WHITE);\n",
    "    let root = root.margin(10, 10, 10, 10);\n",
    "\n",
    "    // --------\n",
    "    // Let us glue two spectre tiles together to get a \"Mystic\"!\n",
    "\n",
    "    let spectre: Rat<ZZ12> = Rat::try_from(&spectre()).unwrap();\n",
    "    // glue a copy of the spectre to itself to get a mystic\n",
    "    let mystic = spectre.glue((2, 0), &spectre);\n",
    "    // take the mirror image and shift the starting point\n",
    "    let spectre_mod = spectre.reflected().cycle(5);\n",
    "\n",
    "    // --------\n",
    "    // Now let's plot this to see what we have done!\n",
    "\n",
    "    // get concrete points and define styles for the tiles\n",
    "    let t1 = spectre.to_polyline_f64(Turtle::new(0.into(), -2));\n",
    "    let s1 = TileStyle::default().with_label(\"The Spectre\");\n",
    "\n",
    "    let t2 = mystic.to_polyline_f64(Turtle::new(ZZ12::from((2, 3)), -3));\n",
    "    let s2 = TileStyle::default().with_label(\"The Mystic\");\n",
    "\n",
    "    let t3 = spectre_mod.to_polyline_f64(Turtle::new(0.into(), -1));\n",
    "    let s3 = my_custom_style().with_label(\"Customized Spectre\");\n",
    "    let (left, right) = root.split_horizontally(1000);\n",
    "\n",
    "    // plot two tiles in the chart on the left\n",
    "    let tiles = vec![(t1.as_slice(), &s1), (t2.as_slice(), &s2)];\n",
    "    let (mut c1, plot_tiles) = tile_chart(\n",
    "        &mut ChartBuilder::on(&left)\n",
    "            .caption(\"My Custom Tile Plot\", (\"sans-serif\", 40).into_font())\n",
    "            .x_label_area_size(20)\n",
    "            .y_label_area_size(40),\n",
    "        tiles.as_slice(),\n",
    "    );\n",
    "    c1.configure_mesh().draw().unwrap();\n",
    "    plot_tiles(&mut c1);\n",
    "\n",
    "    // plot a tile in the chart on the right\n",
    "    right.fill(&GREEN.mix(0.1)).unwrap();\n",
    "    plot_tile(&right, t3.as_slice(), &s3);\n",
    "    \n",
    "    Ok(())\n",
    "})"
   ]
  },
  {
   "cell_type": "code",
   "execution_count": null,
   "id": "ec318060-1de1-490f-9031-b9fc2a2fe557",
   "metadata": {},
   "outputs": [],
   "source": [
    "evcxr_figure((500,500), |root| {\n",
    "    let _ = root.fill(&WHITE);\n",
    "    let root = root.margin(10, 10, 10, 10);\n",
    "\n",
    "    // In this example, let's build two simple tiles and glue them together,\n",
    "    // but plot them into the same coordinate system.\n",
    "\n",
    "    // As the abstract polygon representations (i.e. rats) are abstracted from coordinates,\n",
    "    // nothing changes at this level. Coordinates do not exist in this perspective.\n",
    "    let a = Rat::<ZZ12>::try_from(&[0, 0, 3, 0, 3, 3, -3, -3, 3, 3, 0, 3]).unwrap();\n",
    "    let b = Rat::<ZZ12>::try_from(&[0, 0, 3, 3, 0, 0, 3, 3]).unwrap();\n",
    "    let c = a.glue_unchecked((0, 3), &b);\n",
    "\n",
    "    // By default, all polygons start and end at the origin.\n",
    "    // We determine the placement of a polygon by defining a different turtle,\n",
    "    // i.e. starting point for tracing out the vertices in the plane.\n",
    "    let a_pts = a.to_polyline_f64(Turtle::default());\n",
    "    let b_pts = b.to_polyline_f64(Turtle::new(ZZ12::from((0, 3)), 0));\n",
    "    let c_pts = c.to_polyline_f64(Turtle::new(ZZ12::from((5, 3)), 3));\n",
    "\n",
    "    let s = TileStyle::default().with_fill(TRANSPARENT.into());\n",
    "    let (s_a, s_b, s_c) = (s.clone().with_label(\"a\"), s.clone().with_label(\"b\"), s.clone().with_label(\"c\"));\n",
    "    let tiles2 = vec![\n",
    "        (a_pts.as_slice(), &s_a),\n",
    "        (b_pts.as_slice(), &s_b),\n",
    "        (c_pts.as_slice(), &s_c),\n",
    "    ];\n",
    "    let (mut c, plot_tiles) = tile_chart(&mut ChartBuilder::on(&root), tiles2.as_slice());\n",
    "    plot_tiles(&mut c);\n",
    "\n",
    "    Ok(())\n",
    "})    "
   ]
  },
  {
   "cell_type": "code",
   "execution_count": null,
   "id": "82e4cca7-3510-4a80-9e9b-249404c1bf59",
   "metadata": {},
   "outputs": [],
   "source": [
    "evcxr_figure((500,500), |root| {\n",
    "    let _ = root.fill(&WHITE);\n",
    "    let root = root.margin(10, 10, 10, 10);\n",
    "\n",
    "    let unchecked = Snake::<ZZ12>::from_slice_unchecked(&[5, 5, 5, 5, 5, 5, 5, 5, 5, 5, 5, 5]);\n",
    "    let pts = unchecked.to_polyline_f64(Turtle::default());\n",
    "    plot_tile(\n",
    "        &root,\n",
    "        pts.as_slice(),\n",
    "        &TileStyle::default().with_fill(TRANSPARENT.into()),\n",
    "    );\n",
    "    Ok(())\n",
    "})"
   ]
  },
  {
   "cell_type": "code",
   "execution_count": null,
   "id": "e61a80f6-9004-4d74-97f1-e2481621dfe3",
   "metadata": {},
   "outputs": [],
   "source": []
  }
 ],
 "metadata": {
  "kernelspec": {
   "display_name": "Rust",
   "language": "rust",
   "name": "rust"
  },
  "language_info": {
   "codemirror_mode": "rust",
   "file_extension": ".rs",
   "mimetype": "text/rust",
   "name": "Rust",
   "pygment_lexer": "rust",
   "version": ""
  }
 },
 "nbformat": 4,
 "nbformat_minor": 5
}
